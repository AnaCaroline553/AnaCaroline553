{
  "nbformat": 4,
  "nbformat_minor": 0,
  "metadata": {
    "colab": {
      "provenance": [],
      "authorship_tag": "ABX9TyNXAEUQTFovk5yfSBKpR/1B",
      "include_colab_link": true
    },
    "kernelspec": {
      "name": "python3",
      "display_name": "Python 3"
    },
    "language_info": {
      "name": "python"
    }
  },
  "cells": [
    {
      "cell_type": "markdown",
      "metadata": {
        "id": "view-in-github",
        "colab_type": "text"
      },
      "source": [
        "<a href=\"https://colab.research.google.com/github/AnaCaroline553/AnaCaroline553/blob/main/Aula_02_08_2025_Samsung_Innovation_Campus.ipynb\" target=\"_parent\"><img src=\"https://colab.research.google.com/assets/colab-badge.svg\" alt=\"Open In Colab\"/></a>"
      ]
    },
    {
      "cell_type": "code",
      "execution_count": 3,
      "metadata": {
        "colab": {
          "base_uri": "https://localhost:8080/"
        },
        "id": "fPRoJF8lJcEE",
        "outputId": "663c27df-2fa7-4a77-d943-3874bb765468"
      },
      "outputs": [
        {
          "output_type": "stream",
          "name": "stdout",
          "text": [
            "Digite o número 1: 15\n",
            "Digite o número 2: 20\n",
            "Informe o x1 e y1 com dois números na sequeência separadas por espaço25 35\n",
            "Informe o x2 e y2 com dois números na sequeência separadas por espaço45 65\n",
            "Valor absoluto do número 1: 15.0\n",
            "Valor absoluto do número 2: 20.0\n",
            "Distância euclidiana entre os números: 5.0\n",
            "Distância euclidiana entre os pontos: 36.05551275463989\n"
          ]
        }
      ],
      "source": [
        "import math\n",
        "\n",
        "#Elabore um código em Python solicite números para o usuário\n",
        "#Calcule o valor absoluto dos dois números\n",
        "#Calcule a distância euclidiana entre 1) dois números e 2) dosi pontos ( pedir coordenadas para o usuário)\n",
        "\n",
        "\n",
        "numero1 = float(input('Digite o número 1: '))\n",
        "numero2 = float(input('Digite o número 2: '))\n",
        "\n",
        "#Valor absoluto\n",
        "\n",
        "va_numero1 = abs(numero1)\n",
        "va_numero2 = abs(numero2)\n",
        "\n",
        "#Distância euclidiana\n",
        "\n",
        "#Número\n",
        "\n",
        "dist_numero = abs(va_numero1 - va_numero2) # Calculate the absolute difference\n",
        "\n",
        "#Ponto\n",
        "\n",
        "coordenada_str = input('Informe o x1 e y1 com dois números na sequeência separadas por espaço').split(' ')\n",
        "ponto1 = (float(coordenada_str[0]), float(coordenada_str[1]))\n",
        "coordenada_str = input('Informe o x2 e y2 com dois números na sequeência separadas por espaço').split(' ')\n",
        "ponto2 = (float(coordenada_str[0]), float(coordenada_str[1]))\n",
        "\n",
        "dist_ponto = math.sqrt((ponto2[0] - ponto1[0])**2 + (ponto2[1] - ponto1[1])**2)\n",
        "\n",
        "print(f\"Valor absoluto do número 1: {va_numero1}\")\n",
        "print(f\"Valor absoluto do número 2: {va_numero2}\")\n",
        "print(f\"Distância euclidiana entre os números: {dist_numero}\")\n",
        "print(f\"Distância euclidiana entre os pontos: {dist_ponto}\")\n",
        "\n"
      ]
    },
    {
      "cell_type": "code",
      "metadata": {
        "colab": {
          "base_uri": "https://localhost:8080/",
          "height": 257
        },
        "id": "0344083f",
        "outputId": "1c692836-8f86-4a30-eaeb-286a237ea3fe"
      },
      "source": [
        "# Descreve a função para o usuário\n",
        "print(\"Esta calculadora irá calcular o valor de uma função quadrática na forma f(x) = ax^2 + bx + c\")\n",
        "\n",
        "# Solicita os dados de entrada\n",
        "a = float(input(\"Digite o valor de 'a': \"))\n",
        "b = float(input(\"Digite o valor de 'b': \"))\n",
        "c = float(input(\"Digite o valor de 'c': \"))\n",
        "x = float(input(\"Digite o valor de 'x': \"))\n",
        "\n",
        "# Calcula o valor da função\n",
        "resultado = a * (x**2) + b * x + c\n",
        "\n",
        "# Mostra o resultado\n",
        "print(f\"O valor da função para x = {x} é: {resultado}\")"
      ],
      "execution_count": 6,
      "outputs": [
        {
          "name": "stdout",
          "output_type": "stream",
          "text": [
            "Esta calculadora irá calcular o valor de uma função quadrática na forma f(x) = ax^2 + bx + c\n",
            "Digite o valor de 'a': \n"
          ]
        },
        {
          "output_type": "error",
          "ename": "ValueError",
          "evalue": "could not convert string to float: ''",
          "traceback": [
            "\u001b[0;31m---------------------------------------------------------------------------\u001b[0m",
            "\u001b[0;31mValueError\u001b[0m                                Traceback (most recent call last)",
            "\u001b[0;32m/tmp/ipython-input-2088152734.py\u001b[0m in \u001b[0;36m<cell line: 0>\u001b[0;34m()\u001b[0m\n\u001b[1;32m      3\u001b[0m \u001b[0;34m\u001b[0m\u001b[0m\n\u001b[1;32m      4\u001b[0m \u001b[0;31m# Solicita os dados de entrada\u001b[0m\u001b[0;34m\u001b[0m\u001b[0;34m\u001b[0m\u001b[0m\n\u001b[0;32m----> 5\u001b[0;31m \u001b[0ma\u001b[0m \u001b[0;34m=\u001b[0m \u001b[0mfloat\u001b[0m\u001b[0;34m(\u001b[0m\u001b[0minput\u001b[0m\u001b[0;34m(\u001b[0m\u001b[0;34m\"Digite o valor de 'a': \"\u001b[0m\u001b[0;34m)\u001b[0m\u001b[0;34m)\u001b[0m\u001b[0;34m\u001b[0m\u001b[0;34m\u001b[0m\u001b[0m\n\u001b[0m\u001b[1;32m      6\u001b[0m \u001b[0mb\u001b[0m \u001b[0;34m=\u001b[0m \u001b[0mfloat\u001b[0m\u001b[0;34m(\u001b[0m\u001b[0minput\u001b[0m\u001b[0;34m(\u001b[0m\u001b[0;34m\"Digite o valor de 'b': \"\u001b[0m\u001b[0;34m)\u001b[0m\u001b[0;34m)\u001b[0m\u001b[0;34m\u001b[0m\u001b[0;34m\u001b[0m\u001b[0m\n\u001b[1;32m      7\u001b[0m \u001b[0mc\u001b[0m \u001b[0;34m=\u001b[0m \u001b[0mfloat\u001b[0m\u001b[0;34m(\u001b[0m\u001b[0minput\u001b[0m\u001b[0;34m(\u001b[0m\u001b[0;34m\"Digite o valor de 'c': \"\u001b[0m\u001b[0;34m)\u001b[0m\u001b[0;34m)\u001b[0m\u001b[0;34m\u001b[0m\u001b[0;34m\u001b[0m\u001b[0m\n",
            "\u001b[0;31mValueError\u001b[0m: could not convert string to float: ''"
          ]
        }
      ]
    },
    {
      "cell_type": "code",
      "metadata": {
        "colab": {
          "base_uri": "https://localhost:8080/",
          "height": 472
        },
        "id": "c9215084",
        "outputId": "189196d1-ec7d-4e33-bd6f-e2c11b04b27b"
      },
      "source": [
        "import numpy as np\n",
        "import matplotlib.pyplot as plt\n",
        "\n",
        "# Gere uma série de valores para x\n",
        "# Ajuste o intervalo e o número de pontos conforme necessário\n",
        "x_values = np.linspace(-10, 10, 400)\n",
        "\n",
        "# Calcule os valores correspondentes de y usando os valores de a, b e c\n",
        "# da célula anterior\n",
        "y_values = a * (x_values**2) + b * x_values + c\n",
        "\n",
        "# Crie o gráfico\n",
        "plt.plot(x_values, y_values)\n",
        "plt.xlabel('x')\n",
        "plt.ylabel('f(x)')\n",
        "plt.title('Gráfico da Função Quadrática')\n",
        "plt.grid(True)\n",
        "plt.show()"
      ],
      "execution_count": 5,
      "outputs": [
        {
          "output_type": "display_data",
          "data": {
            "text/plain": [
              "<Figure size 640x480 with 1 Axes>"
            ],
            "image/png": "[encoded data removed]"
          },
          "metadata": {}
        }
      ]
    },
    {
      "cell_type": "code",
      "source": [
        "#Cálculo do Produto Interno\n",
        "\n",
        "import numpy as np\n",
        "\n",
        "def produto_interno(v1, v2):\n",
        "\n",
        " '''Calcula o produto interno (escalar) de dois vetores.\n",
        "\n",
        "  Args:\n",
        "    v1: Primeiro vetor (lista ou array NumPy).\n",
        "    v2: Segundo vetor (lista ou array NumPy).\n",
        "\n",
        "  Returns:\n",
        "    O produto interno dos dois vetores.\n",
        " '''\n",
        " return np.dot(v1, v2)\n",
        "\n",
        "# Exemplo de uso:\n",
        "vetor_a = [1, 2, 3]\n",
        "vetor_b = [4, 5, 6]\n",
        "resultado = produto_interno(vetor_a, vetor_b)\n",
        "print(f\"O produto interno é: {resultado}\")  # Saída: 32"
      ],
      "metadata": {
        "colab": {
          "base_uri": "https://localhost:8080/"
        },
        "id": "XWX2CZfh6TUe",
        "outputId": "c92fb1ba-c9db-476c-aba7-0f6ff41a4899"
      },
      "execution_count": 13,
      "outputs": [
        {
          "output_type": "stream",
          "name": "stdout",
          "text": [
            "O produto interno é: 32\n"
          ]
        }
      ]
    },
    {
      "cell_type": "code",
      "source": [
        "#Declaração de Matriz\n",
        "#Expressões Matriciais\n",
        "\n",
        "matriz_a = np.array([[1, 2], [3, 4]])\n",
        "matriz_b = np.array([[5, 6], [7, 8]])\n",
        "\n",
        "#Matriz Soma\n",
        "\n",
        "matriz_soma = matriz_a + matriz_b\n",
        "print(\"\\nMatriz Soma:\")\n",
        "print(matriz_soma)\n",
        "\n",
        "#Matriz Subtração\n",
        "\n",
        "matriz_subtracao = matriz_a - matriz_b\n",
        "print(\"\\nMatriz Subtração:\")\n",
        "print(matriz_subtracao)\n",
        "\n",
        "#Matriz Multiplicação\n",
        "\n",
        "matriz_multiplicacao = np.dot(matriz_a, matriz_b)\n",
        "print(\"\\nMatriz Multiplicação:\")\n",
        "print(matriz_multiplicacao)\n",
        "\n",
        "#Matriz Divisão\n",
        "\n",
        "matriz_divisao = matriz_a / matriz_b\n",
        "print(\"\\nMatriz Divisão:\")\n",
        "print(matriz_divisao)\n",
        "\n"
      ],
      "metadata": {
        "colab": {
          "base_uri": "https://localhost:8080/"
        },
        "id": "_CJSpoyBAHGd",
        "outputId": "3e7f1fef-b804-47f1-e6ab-f65de24d6c19"
      },
      "execution_count": 21,
      "outputs": [
        {
          "output_type": "stream",
          "name": "stdout",
          "text": [
            "\n",
            "Matriz Soma:\n",
            "[[ 6  8]\n",
            " [10 12]]\n",
            "\n",
            "Matriz Subtração:\n",
            "[[-4 -4]\n",
            " [-4 -4]]\n",
            "\n",
            "Matriz Multiplicação:\n",
            "[[19 22]\n",
            " [43 50]]\n",
            "\n",
            "Matriz Divisão:\n",
            "[[0.2        0.33333333]\n",
            " [0.42857143 0.5       ]]\n"
          ]
        }
      ]
    },
    {
      "cell_type": "code",
      "source": [
        "#Para Inteiros\n",
        "valor_inicial = int(input(\"Digite o valor inicial: \"))\n",
        "valor_final = int(input(\"Digite o valor final: \"))\n",
        "print(f\"Os números entre {valor_inicial} e {valor_final} são:\")\n",
        "for numero in range(valor_inicial + 1, valor_final):\n",
        "    print(numero)\n",
        "\n",
        "#Para Ponto Flutuante\n",
        "valor_inicial = int(input(\"Digite o valor inicial: \"))\n",
        "valor_final = int(input(\"Digite o valor final: \"))\n",
        "print(f\"Os números entre {valor_float_inicial} e {valor_flutuante_final} são:\")\n",
        "\n"
      ],
      "metadata": {
        "id": "zb-06wJDHb_N"
      },
      "execution_count": null,
      "outputs": []
    }
  ]
}