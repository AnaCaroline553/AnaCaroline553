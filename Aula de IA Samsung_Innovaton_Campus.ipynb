{
  "nbformat": 4,
  "nbformat_minor": 0,
  "metadata": {
    "colab": {
      "provenance": [],
      "authorship_tag": "ABX9TyP8OZ3gP2inc64aB6w8yI6A",
      "include_colab_link": true
    },
    "kernelspec": {
      "name": "python3",
      "display_name": "Python 3"
    },
    "language_info": {
      "name": "python"
    }
  },
  "cells": [
    {
      "cell_type": "markdown",
      "metadata": {
        "id": "view-in-github",
        "colab_type": "text"
      },
      "source": [
        "<a href=\"https://colab.research.google.com/github/AnaCaroline553/AnaCaroline553/blob/main/Aula%20de%20IA%20Samsung_Innovaton_Campus.ipynb\" target=\"_parent\"><img src=\"https://colab.research.google.com/assets/colab-badge.svg\" alt=\"Open In Colab\"/></a>"
      ]
    },
    {
      "cell_type": "code",
      "execution_count": 3,
      "metadata": {
        "colab": {
          "base_uri": "https://localhost:8080/"
        },
        "id": "q0lGQxT2s6Tz",
        "outputId": "9d29dda0-3ae2-497e-9fa7-ca43b904854c"
      },
      "outputs": [
        {
          "output_type": "stream",
          "name": "stdout",
          "text": [
            "----Amostra dos dados gerados----\n",
            "                    nome                 cargo senioridade  \\\n",
            "0          Thiago Borges              Auxiliar      Júnior   \n",
            "1  Sra. Vitória Mendonça              Auxiliar      Júnior   \n",
            "2           Igor Azevedo  Arquiteto de Solução      Sênior   \n",
            "3    Luiz Gustavo Fogaça  Arquiteto de Solução      Sênior   \n",
            "4        Benjamim Araújo              Auxiliar      Júnior   \n",
            "\n",
            "                      email   tipo_email  \n",
            "0         joana60@gmail.com      pessoal  \n",
            "1      fogacaotto@gmail.com      pessoal  \n",
            "2    juansales@yahoo.com.br      pessoal  \n",
            "3  camargoisabelly@costa.br  corporativo  \n",
            "4    garciacaua@hotmail.com      pessoal  \n",
            "\n",
            "========================================\n",
            "\n",
            "Modelo de IA treinado com sucesso!\n",
            "\n",
            "========================================\n",
            "\n"
          ]
        },
        {
          "output_type": "stream",
          "name": "stderr",
          "text": [
            "/tmp/ipython-input-3-1427857631.py:57: SettingWithCopyWarning: \n",
            "A value is trying to be set on a copy of a slice from a DataFrame.\n",
            "Try using .loc[row_indexer,col_indexer] = value instead\n",
            "\n",
            "See the caveats in the documentation: https://pandas.pydata.org/pandas-docs/stable/user_guide/indexing.html#returning-a-view-versus-a-copy\n",
            "  X['tipo_email_encoded'] = le_tipo_email.fit_transform(X['tipo_email'])\n"
          ]
        }
      ],
      "source": [
        "import pandas as pd\n",
        "from faker import Faker\n",
        "from sklearn.model_selection import train_test_split\n",
        "from sklearn.tree import DecisionTreeClassifier\n",
        "from sklearn.metrics import accuracy_score\n",
        "from sklearn.preprocessing import LabelEncoder\n",
        "import random\n",
        "\n",
        "fake = Faker('pt-br')\n",
        "\n",
        "cargos = {\n",
        "    'Júnior':['Assistente','Auxiliar','Estagiário','Analista de Suporte'],\n",
        "    'Pleno':['Analista','Desenvolvedor','Especialista','Engenheiro de Software'],\n",
        "    'Sênior':['Gerente','Coordenador','Arquiteto de Solução', 'Líder Técnico']\n",
        "}\n",
        "\n",
        "senioridades = list(cargos.keys())\n",
        "dados = []\n",
        "\n",
        "\n",
        "for i in range(500):\n",
        "  #escolher uma senioridade de forma aleatória\n",
        "  senioridade_escolhida = random.choice(senioridades)\n",
        "  cargo_escolhido = random.choice(cargos[senioridade_escolhida])\n",
        "\n",
        "  #Lógica simples:Pessoas com cargo Sênior possuem mais chances de ter e-mail comparativo\n",
        "  if senioridade_escolhida == 'Sênior' and random.random()<0.8: #80% de chance\n",
        "    email = fake.company_email()\n",
        "  elif senioridade_escolhida == 'Pleno' and random.random()<0.5: #50% de chance\n",
        "    email = fake.company_email()\n",
        "  else:#Junior tem baixa chance de ter e-mail neste exemplo\n",
        "    email = fake.free_email()\n",
        "\n",
        "  dados.append  ({\n",
        "    'nome': fake.name(),\n",
        "    'cargo': cargo_escolhido,\n",
        "    'senioridade': senioridade_escolhida,\n",
        "    'email': email,\n",
        "    'tipo_email': 'corporativo' if '@' in email and not any(p in email for p in ['gmail', 'hotmail', 'yahoo']) else 'pessoal',\n",
        "  })\n",
        "\n",
        "#Converter para um DataFrame do Pandas\n",
        "df = pd.DataFrame(dados)\n",
        "\n",
        "#Passo 02 - Preparar os dados (Pré-Processamento)\n",
        "\n",
        "print('----Amostra dos dados gerados----')\n",
        "print(df.head())\n",
        "print(\"\\n\" + \"=\"*40 + \"\\n\")\n",
        "\n",
        "#Converte 'tipo_email' e 'senioridade' em números, pois a IA trabalha com números\n",
        "le_tipo_email = LabelEncoder()\n",
        "le_senioridade = LabelEncoder()\n",
        "\n",
        "#'X' são as caracteristicas que usamos para prever(features)\n",
        "X = df[['tipo_email']]\n",
        "X['tipo_email_encoded'] = le_tipo_email.fit_transform(X['tipo_email'])\n",
        "\n",
        "#Y é o que queremos prever(target)\n",
        "y = le_senioridade.fit_transform(df['senioridade'])\n",
        "\n",
        "\n",
        "#Passo 3 -  Treinar o modelo de IA\n",
        "#Dividir os dados: 80% para treinar e 20% para testar a performance\n",
        "X_train, X_test, y_train, y_test = train_test_split(X[['tipo_email_encoded']], y, test_size=0.2, random_state=42)\n",
        "\n",
        "#Escolher um modelo de IA simples: Árvore de Descisão\n",
        "modelo_ia = DecisionTreeClassifier(random_state=42)\n",
        "\n",
        "#Treinar o modelo com os dados de treino\n",
        "modelo_ia.fit(X_train, y_train)\n",
        "\n",
        "print(\"Modelo de IA treinado com sucesso!\")\n",
        "print(\"\\n\" + \"=\"*40 + \"\\n\")\n"
      ]
    },
    {
      "cell_type": "code",
      "metadata": {
        "colab": {
          "base_uri": "https://localhost:8080/"
        },
        "id": "0f98bddf",
        "outputId": "7d71795b-adf2-4ada-b6cb-0b699624bfbc"
      },
      "source": [
        "%pip install faker"
      ],
      "execution_count": 2,
      "outputs": [
        {
          "output_type": "stream",
          "name": "stdout",
          "text": [
            "Collecting faker\n",
            "  Downloading faker-37.4.2-py3-none-any.whl.metadata (15 kB)\n",
            "Requirement already satisfied: tzdata in /usr/local/lib/python3.11/dist-packages (from faker) (2025.2)\n",
            "Downloading faker-37.4.2-py3-none-any.whl (1.9 MB)\n",
            "\u001b[2K   \u001b[90m━━━━━━━━━━━━━━━━━━━━━━━━━━━━━━━━━━━━━━━━\u001b[0m \u001b[32m1.9/1.9 MB\u001b[0m \u001b[31m19.5 MB/s\u001b[0m eta \u001b[36m0:00:00\u001b[0m\n",
            "\u001b[?25hInstalling collected packages: faker\n",
            "Successfully installed faker-37.4.2\n"
          ]
        }
      ]
    }
  ]
}