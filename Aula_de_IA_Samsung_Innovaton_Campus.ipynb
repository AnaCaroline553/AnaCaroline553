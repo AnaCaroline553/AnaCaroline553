{
  "nbformat": 4,
  "nbformat_minor": 0,
  "metadata": {
    "colab": {
      "provenance": [],
      "authorship_tag": "ABX9TyMdYdaywEcllvNRXX9QVFmU",
      "include_colab_link": true
    },
    "kernelspec": {
      "name": "python3",
      "display_name": "Python 3"
    },
    "language_info": {
      "name": "python"
    }
  },
  "cells": [
    {
      "cell_type": "markdown",
      "metadata": {
        "id": "view-in-github",
        "colab_type": "text"
      },
      "source": [
        "<a href=\"https://colab.research.google.com/github/AnaCaroline553/AnaCaroline553/blob/main/Aula_de_IA_Samsung_Innovaton_Campus.ipynb\" target=\"_parent\"><img src=\"https://colab.research.google.com/assets/colab-badge.svg\" alt=\"Open In Colab\"/></a>"
      ]
    },
    {
      "cell_type": "code",
      "source": [
        "!pip install faker"
      ],
      "metadata": {
        "colab": {
          "base_uri": "https://localhost:8080/"
        },
        "id": "kkvK0AN1v0F_",
        "outputId": "43ab8bab-14ba-4fd8-a694-6a86cf357869"
      },
      "execution_count": 10,
      "outputs": [
        {
          "output_type": "stream",
          "name": "stdout",
          "text": [
            "Requirement already satisfied: faker in /usr/local/lib/python3.11/dist-packages (37.4.2)\n",
            "Requirement already satisfied: tzdata in /usr/local/lib/python3.11/dist-packages (from faker) (2025.2)\n"
          ]
        }
      ]
    },
    {
      "cell_type": "code",
      "execution_count": 14,
      "metadata": {
        "colab": {
          "base_uri": "https://localhost:8080/"
        },
        "id": "q0lGQxT2s6Tz",
        "outputId": "0ae32b76-a410-4b13-88a0-254f324f9ef6"
      },
      "outputs": [
        {
          "output_type": "stream",
          "name": "stdout",
          "text": [
            "----Amostra dos dados gerados----\n",
            "                     nome                 cargo senioridade  \\\n",
            "0   Davi Miguel das Neves   Analista de Suporte      Júnior   \n",
            "1        Sra. Júlia Ramos  Arquiteto de Solução      Sênior   \n",
            "2          Evelyn da Rosa              Analista       Pleno   \n",
            "3      Ana Clara Ferreira          Especialista       Pleno   \n",
            "4  Henry Gabriel Cassiano         Líder Técnico      Sênior   \n",
            "\n",
            "                          email   tipo_email  \n",
            "0        cassianomaya@ig.com.br  corporativo  \n",
            "1       barbosalevi@nogueira.br  corporativo  \n",
            "2  luarada-conceicao@uol.com.br  corporativo  \n",
            "3        camaraemanuelly@da.com  corporativo  \n",
            "4  aparecidadanilo@goncalves.br  corporativo  \n",
            "\n",
            "========================================\n",
            "\n",
            "Modelo de IA treinado com sucesso!\n",
            "\n",
            "========================================\n",
            "\n",
            "Acurácia do modelo nos dados de teste: 43.00%\n",
            "\n",
            "========================================\n",
            "\n",
            "Qual o nível provável de senioridade para alguém com o e-mail do tipo: pessoal\n",
            "A previsão de senioridade para o e-mail 'pessoal' é: Júnior\n"
          ]
        },
        {
          "output_type": "stream",
          "name": "stderr",
          "text": [
            "/tmp/ipython-input-14-980026876.py:57: SettingWithCopyWarning: \n",
            "A value is trying to be set on a copy of a slice from a DataFrame.\n",
            "Try using .loc[row_indexer,col_indexer] = value instead\n",
            "\n",
            "See the caveats in the documentation: https://pandas.pydata.org/pandas-docs/stable/user_guide/indexing.html#returning-a-view-versus-a-copy\n",
            "  X['tipo_email_encoded'] = le_tipo_email.fit_transform(X['tipo_email'])\n",
            "/usr/local/lib/python3.11/dist-packages/sklearn/utils/validation.py:2739: UserWarning: X does not have valid feature names, but DecisionTreeClassifier was fitted with feature names\n",
            "  warnings.warn(\n"
          ]
        }
      ],
      "source": [
        "import pandas as pd\n",
        "from faker import Faker\n",
        "from sklearn.model_selection import train_test_split\n",
        "from sklearn.tree import DecisionTreeClassifier\n",
        "from sklearn.metrics import accuracy_score\n",
        "from sklearn.preprocessing import LabelEncoder\n",
        "import random\n",
        "\n",
        "fake = Faker('pt-br')\n",
        "\n",
        "cargos = {\n",
        "    'Júnior':['Assistente','Auxiliar','Estagiário','Analista de Suporte'],\n",
        "    'Pleno':['Analista','Desenvolvedor','Especialista','Engenheiro de Software'],\n",
        "    'Sênior':['Gerente','Coordenador','Arquiteto de Solução', 'Líder Técnico']\n",
        "}\n",
        "\n",
        "senioridades = list(cargos.keys())\n",
        "dados = []\n",
        "\n",
        "\n",
        "for i in range(500):\n",
        "  #escolher uma senioridade de forma aleatória\n",
        "  senioridade_escolhida = random.choice(senioridades)\n",
        "  cargo_escolhido = random.choice(cargos[senioridade_escolhida])\n",
        "\n",
        "  #Lógica simples:Pessoas com cargo Sênior possuem mais chances de ter e-mail comparativo\n",
        "  if senioridade_escolhida == 'Sênior' and random.random()<0.8: #80% de chance\n",
        "    email = fake.company_email()\n",
        "  elif senioridade_escolhida == 'Pleno' and random.random()<0.5: #50% de chance\n",
        "    email = fake.company_email()\n",
        "  else:#Junior tem baixa chance de ter e-mail neste exemplo\n",
        "    email = fake.free_email()\n",
        "\n",
        "  dados.append  ({\n",
        "    'nome': fake.name(),\n",
        "    'cargo': cargo_escolhido,\n",
        "    'senioridade': senioridade_escolhida,\n",
        "    'email': email,\n",
        "    'tipo_email': 'corporativo' if '@' in email and not any(p in email for p in ['gmail', 'hotmail', 'yahoo']) else 'pessoal',\n",
        "  })\n",
        "\n",
        "#Converter para um DataFrame do Pandas\n",
        "df = pd.DataFrame(dados)\n",
        "\n",
        "#Passo 02 - Preparar os dados (Pré-Processamento)\n",
        "\n",
        "print('----Amostra dos dados gerados----')\n",
        "print(df.head())\n",
        "print(\"\\n\" + \"=\"*40 + \"\\n\")\n",
        "\n",
        "#Converte 'tipo_email' e 'senioridade' em números, pois a IA trabalha com números\n",
        "le_tipo_email = LabelEncoder()\n",
        "le_senioridade = LabelEncoder()\n",
        "\n",
        "#'X' são as caracteristicas que usamos para prever(features)\n",
        "X = df[['tipo_email']]\n",
        "X['tipo_email_encoded'] = le_tipo_email.fit_transform(X['tipo_email'])\n",
        "\n",
        "#Y é o que queremos prever(target)\n",
        "y = le_senioridade.fit_transform(df['senioridade'])\n",
        "\n",
        "\n",
        "#Passo 3 -  Treinar o modelo de IA\n",
        "#Dividir os dados: 80% para treinar e 20% para testar a performance\n",
        "X_train, X_test, y_train, y_test = train_test_split(X[['tipo_email_encoded']], y, test_size=0.2, random_state=42)\n",
        "\n",
        "#Escolher um modelo de IA simples: Árvore de Descisão\n",
        "modelo_ia = DecisionTreeClassifier(random_state=42)\n",
        "\n",
        "#Treinar o modelo com os dados de treino\n",
        "modelo_ia.fit(X_train, y_train)\n",
        "\n",
        "print(\"Modelo de IA treinado com sucesso!\")\n",
        "print(\"\\n\" + \"=\"*40 + \"\\n\")\n",
        "\n",
        "#Vamos ver a performance do modelos nos dados de teste que nunca viu\n",
        "y_pred = modelo_ia.predict(X_test)\n",
        "accuracy = accuracy_score(y_test, y_pred)\n",
        "print(f\"Acurácia do modelo nos dados de teste: {accuracy*100:.2f}%\")\n",
        "print(\"\\n\"+\"=\"*40+\"\\n\")\n",
        "\n",
        "#Passo 04 Fazer uma previsão\n",
        "#Criando um contato para IA prever\n",
        "novo_contato_email = 'corporativo'\n",
        "print(f\"Qual o nível provável de senioridade para alguél com o E-mail do tipo: {novo_contato_email}\")\n",
        "\n",
        "novo_contato_encoded = le_tipo_email.transform([novo_contato_email])\n",
        "\n",
        "#Fazer a previsão\n",
        "previsao_encoded = modelo_ia.predict([novo_contato_encoded])\n",
        "\n",
        "#Reverter a previsão de número para texto\n",
        "previsao_final = le_senioridade.inverse_transform(previsao_encoded)\n",
        "\n",
        "print(f\"O nível provável de senioridade para o contato é: {previsao_final[0]}\")\n",
        "\n",
        "4"
      ]
    }
  ]
}